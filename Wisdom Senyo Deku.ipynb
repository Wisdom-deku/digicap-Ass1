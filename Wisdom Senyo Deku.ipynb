{
 "cells": [
  {
   "cell_type": "markdown",
   "id": "f3b94e72",
   "metadata": {},
   "source": [
    "## NumPy and Pandas Exercises  Exercises "
   ]
  },
  {
   "cell_type": "markdown",
   "id": "7d2208b4",
   "metadata": {},
   "source": [
    "Question 1 a) Generate a 2 by 3 matrix containing elements from 1 to 6 and multiply it by a scalar of two."
   ]
  },
  {
   "cell_type": "markdown",
   "id": "2edac001",
   "metadata": {},
   "source": [
    "Solution:"
   ]
  },
  {
   "cell_type": "code",
   "execution_count": 59,
   "id": "55031865",
   "metadata": {},
   "outputs": [
    {
     "name": "stdout",
     "output_type": "stream",
     "text": [
      "[[ 2  4  6]\n",
      " [ 8 10 12]]\n"
     ]
    }
   ],
   "source": [
    "import numpy as np\n",
    "\n",
    "A = np.arange(1, 7).reshape((2, 3))\n",
    "\n",
    "A_by_scalar = A * 2\n",
    "\n",
    "print(A_by_scalar)\n",
    "\n"
   ]
  },
  {
   "cell_type": "markdown",
   "id": "e3c7273d",
   "metadata": {},
   "source": [
    "Question 1 b) Create a 3 by 3 identity matrix\n"
   ]
  },
  {
   "cell_type": "markdown",
   "id": "a2f1f269",
   "metadata": {},
   "source": [
    "Solution:"
   ]
  },
  {
   "cell_type": "code",
   "execution_count": 84,
   "id": "460e8eac",
   "metadata": {},
   "outputs": [
    {
     "name": "stdout",
     "output_type": "stream",
     "text": [
      "[[1. 0. 0.]\n",
      " [0. 1. 0.]\n",
      " [0. 0. 1.]]\n"
     ]
    }
   ],
   "source": [
    "I = np.identity(3)\n",
    "\n",
    "print(I)\n"
   ]
  },
  {
   "cell_type": "markdown",
   "id": "69529569",
   "metadata": {},
   "source": [
    "Question 1 c) Create a 1-D array call arry1 which contains elements ranging from zero to twenty-seven. Convert arry1 to a 3-D arry2"
   ]
  },
  {
   "cell_type": "markdown",
   "id": "2597dfbf",
   "metadata": {},
   "source": [
    "Solution:"
   ]
  },
  {
   "cell_type": "code",
   "execution_count": 85,
   "id": "34ccd1c2",
   "metadata": {},
   "outputs": [
    {
     "name": "stdout",
     "output_type": "stream",
     "text": [
      "[[ 0  1  2  3  4  5  6  7  8]\n",
      " [ 9 10 11 12 13 14 15 16 17]\n",
      " [18 19 20 21 22 23 24 25 26]]\n"
     ]
    }
   ],
   "source": [
    "arry1 = np.arange(0, 27) # a 3-D array can not be created out of 28 element so I used 27\n",
    "\n",
    "arry2 = arry1.reshape((3, 9))\n",
    "\n",
    "print(arry2)\n"
   ]
  },
  {
   "cell_type": "markdown",
   "id": "0de181d2",
   "metadata": {},
   "source": [
    "Question 1 d) Create two 2-D arrays with the first array containing elements from 1 to 6 and the second array containing elements from 7 to 12.\n",
    "             Horizontally stack the two arrays together. Using the same set of arrays vertically stack the two arrays"
   ]
  },
  {
   "cell_type": "markdown",
   "id": "662e4b52",
   "metadata": {},
   "source": [
    "Solution:"
   ]
  },
  {
   "cell_type": "code",
   "execution_count": 86,
   "id": "56500e71",
   "metadata": {},
   "outputs": [
    {
     "name": "stdout",
     "output_type": "stream",
     "text": [
      "X = [[1 2 3]\n",
      " [4 5 6]]\n",
      "Y = [[ 7  8  9]\n",
      " [10 11 12]]\n"
     ]
    }
   ],
   "source": [
    "x = np.arange(1, 7).reshape((2, 3))\n",
    "\n",
    "print('X =',(x))\n",
    "\n",
    "y = np.arange(7, 13).reshape((2, 3))\n",
    "\n",
    "print('Y =',(y)) "
   ]
  },
  {
   "cell_type": "code",
   "execution_count": 87,
   "id": "b0c1fae8",
   "metadata": {},
   "outputs": [
    {
     "name": "stdout",
     "output_type": "stream",
     "text": [
      "[[ 1  2  3  7  8  9]\n",
      " [ 4  5  6 10 11 12]]\n"
     ]
    }
   ],
   "source": [
    "horizontal_stack = np.hstack((x, y))\n",
    "\n",
    "print(horizontal_stack)"
   ]
  },
  {
   "cell_type": "code",
   "execution_count": 88,
   "id": "c4b6b1f3",
   "metadata": {},
   "outputs": [
    {
     "name": "stdout",
     "output_type": "stream",
     "text": [
      "[[ 1  2  3]\n",
      " [ 4  5  6]\n",
      " [ 7  8  9]\n",
      " [10 11 12]]\n"
     ]
    }
   ],
   "source": [
    "vertical_stack = np.vstack((x, y))\n",
    "\n",
    "print(vertical_stack)"
   ]
  },
  {
   "cell_type": "markdown",
   "id": "f0ec2a9e",
   "metadata": {},
   "source": [
    "Question 1 e) Create an equally spaced sequence with a gap of 5 ranging from 0 to 100"
   ]
  },
  {
   "cell_type": "markdown",
   "id": "ea315520",
   "metadata": {},
   "source": [
    "Solution:"
   ]
  },
  {
   "cell_type": "code",
   "execution_count": 89,
   "id": "ff9d5170",
   "metadata": {},
   "outputs": [
    {
     "name": "stdout",
     "output_type": "stream",
     "text": [
      "[  0   5  10  15  20  25  30  35  40  45  50  55  60  65  70  75  80  85\n",
      "  90  95 100]\n"
     ]
    }
   ],
   "source": [
    "seq_5 = np.arange(0, 101, 5)\n",
    "\n",
    "print(seq_5)"
   ]
  },
  {
   "cell_type": "markdown",
   "id": "db2623c5",
   "metadata": {},
   "source": [
    "Question 2 a) Create a DataFrame named as students using a list of names of 5 students"
   ]
  },
  {
   "cell_type": "markdown",
   "id": "deae1012",
   "metadata": {},
   "source": [
    "Solution:"
   ]
  },
  {
   "cell_type": "code",
   "execution_count": 90,
   "id": "a29b6da1",
   "metadata": {},
   "outputs": [
    {
     "name": "stdout",
     "output_type": "stream",
     "text": [
      "       Name\n",
      "0  Anderson\n",
      "1    Samuel\n",
      "2    Wisdom\n",
      "3   Clement\n",
      "4   Stephen\n"
     ]
    }
   ],
   "source": [
    "import pandas as pd\n",
    "\n",
    "students = pd.DataFrame(['Anderson', 'Samuel', 'Wisdom', 'Clement', 'Stephen'], columns=['Name'])\n",
    "\n",
    "print(students)"
   ]
  },
  {
   "cell_type": "markdown",
   "id": "e7a367d1",
   "metadata": {},
   "source": [
    "Question 1 b) Write a program to create a DataFrame teams using a list of names of Ghana Premier League Teams and the goals they scored in their previous five matches"
   ]
  },
  {
   "cell_type": "markdown",
   "id": "9a76fd8e",
   "metadata": {},
   "source": [
    "Solution:"
   ]
  },
  {
   "cell_type": "code",
   "execution_count": 91,
   "id": "53994251",
   "metadata": {},
   "outputs": [
    {
     "name": "stdout",
     "output_type": "stream",
     "text": [
      "                  Team  TG  Match 1  Match 2  Match 3  Match 4  Match 5\n",
      "0  Accra Hearts of Oak  10        2        1        3        2        2\n",
      "1        Asante Kotoko   7        1        1        1        3        2\n",
      "2        Ebusua Dwarfs   5        1        1        0        1        2\n",
      "3     Sekondi Hassacas   8        1        2        3        0        2\n",
      "4        Okwahu United   9        2        2        1        2        2\n",
      "5        Tano Bofoakwa   6        0        1        2        2        1\n",
      "6            BA United   5        1        2        0        1        1\n"
     ]
    }
   ],
   "source": [
    "\n",
    "\n",
    "Data = {'Team': ['Accra Hearts of Oak', 'Asante Kotoko', 'Ebusua Dwarfs', 'Sekondi Hassacas', 'Okwahu United', 'Tano Bofoakwa', 'BA United'],\n",
    "                      'TG': [10, 7, 5, 8, 9, 6, 5],\n",
    "                      'Match 1': [2, 1, 1, 1, 2, 0, 1],\n",
    "                      'Match 2': [1, 1, 1, 2, 2, 1, 2],\n",
    "                      'Match 3': [3, 1, 0, 3, 1, 2, 0],\n",
    "                      'Match 4': [2, 3, 1, 0, 2, 2, 1],\n",
    "                      'Match 5': [2, 2, 2, 2, 2, 1, 1]}\n",
    "Teams = pd.DataFrame(Data)\n",
    "print(Teams)"
   ]
  },
  {
   "cell_type": "markdown",
   "id": "bbc87762",
   "metadata": {},
   "source": [
    "Question 2 c) Write a program to create a DataFrame countries using a dictionary which stored country name, capitals, and populations of the country. Do this for West African Countries."
   ]
  },
  {
   "cell_type": "markdown",
   "id": "dfa3ff24",
   "metadata": {},
   "source": [
    "Solution:"
   ]
  },
  {
   "cell_type": "code",
   "execution_count": 92,
   "id": "717b360a",
   "metadata": {},
   "outputs": [
    {
     "name": "stdout",
     "output_type": "stream",
     "text": [
      "        Country       Capital  Population(in million)\n",
      "0       Nigeria         Abuja                   200.9\n",
      "1         Ghana         Accra                    31.1\n",
      "2   Ivory Coast  Yamoussoukro                    25.7\n",
      "3       Liberia      Monrovia                     4.9\n",
      "4  Sierra Leone      Freetown                     7.8\n",
      "5          Togo         Leome                     8.6\n"
     ]
    }
   ],
   "source": [
    "countries_data = {'Country': ['Nigeria', 'Ghana', 'Ivory Coast', 'Liberia', 'Sierra Leone', 'Togo'],\n",
    "                  'Capital': ['Abuja', 'Accra', 'Yamoussoukro', 'Monrovia', 'Freetown', 'Leome'],\n",
    "                  'Population(in million)': [200.9, 31.1, 25.7, 4.9, 7.8, 8.6]}\n",
    "\n",
    "countries = pd.DataFrame(countries_data)\n",
    "\n",
    "print(countries)"
   ]
  },
  {
   "cell_type": "markdown",
   "id": "08fe90fe",
   "metadata": {},
   "source": [
    "Question 2 d) Consider the following data and write a programme to capture the data in python.\n",
    "i) Print the Team name along with Goals For (GF), Goals Against (GA) and Points (PTS)."
   ]
  },
  {
   "cell_type": "markdown",
   "id": "36ef7cbc",
   "metadata": {},
   "source": [
    "Solution:"
   ]
  },
  {
   "cell_type": "code",
   "execution_count": 93,
   "id": "6074120a",
   "metadata": {},
   "outputs": [
    {
     "name": "stdout",
     "output_type": "stream",
     "text": [
      "               Team   GF  GA  PTS\n",
      "1     Hearts of Oak  120  35   80\n",
      "2     Asante Kotoko   90  55   60\n",
      "3     Ebusua Dwarfs   90  60   60\n",
      "4  Sekondi Hassacas   80  43   55\n",
      "5     Okwahu United   78  39   53\n",
      "6     Tano Bofoakwa   70  50   49\n",
      "7         BA United   71  55   44\n"
     ]
    }
   ],
   "source": [
    "data = {'Team': ['Hearts of Oak', 'Asante Kotoko', 'Ebusua Dwarfs', 'Sekondi Hassacas', 'Okwahu United', 'Tano Bofoakwa', 'BA United'],\n",
    "    'GF': [120, 90, 90, 80, 78, 70, 71],\n",
    "    'GA': [35, 55, 60, 43, 39, 50, 55],\n",
    "    'PTS': [80, 60, 60, 55, 53, 49, 44]}\n",
    "\n",
    "df = pd.DataFrame(data, index=[1, 2, 3, 4, 5, 6, 7])\n",
    "\n",
    "print(df)"
   ]
  },
  {
   "cell_type": "markdown",
   "id": "799c2534",
   "metadata": {},
   "source": [
    "Question 2 dii) Display details of the team that considered more than 30 goals\n"
   ]
  },
  {
   "cell_type": "markdown",
   "id": "892d87eb",
   "metadata": {},
   "source": [
    "Solution:"
   ]
  },
  {
   "cell_type": "code",
   "execution_count": 94,
   "id": "62a54c18",
   "metadata": {},
   "outputs": [
    {
     "name": "stdout",
     "output_type": "stream",
     "text": [
      "               Team   GF  GA  PTS\n",
      "1     Hearts of Oak  120  35   80\n",
      "2     Asante Kotoko   90  55   60\n",
      "3     Ebusua Dwarfs   90  60   60\n",
      "4  Sekondi Hassacas   80  43   55\n",
      "5     Okwahu United   78  39   53\n",
      "6     Tano Bofoakwa   70  50   49\n",
      "7         BA United   71  55   44\n"
     ]
    }
   ],
   "source": [
    "more_than_30 = df[df['GA'] > 30]\n",
    "\n",
    "print(more_than_30)\n"
   ]
  },
  {
   "cell_type": "markdown",
   "id": "0bca5058",
   "metadata": {},
   "source": [
    "Display details of the team that scored less than 80 goals"
   ]
  },
  {
   "cell_type": "markdown",
   "id": "8148c2e2",
   "metadata": {},
   "source": [
    "Solution:"
   ]
  },
  {
   "cell_type": "code",
   "execution_count": 95,
   "id": "55842a0f",
   "metadata": {},
   "outputs": [
    {
     "name": "stdout",
     "output_type": "stream",
     "text": [
      "            Team  GF  GA  PTS\n",
      "5  Okwahu United  78  39   53\n",
      "6  Tano Bofoakwa  70  50   49\n",
      "7      BA United  71  55   44\n"
     ]
    }
   ],
   "source": [
    "less_than_80 = df[df['GF'] < 80]\n",
    "\n",
    "print(less_than_80)"
   ]
  },
  {
   "cell_type": "markdown",
   "id": "13cb9faf",
   "metadata": {},
   "source": [
    "Display details of the team that had less than 60 points\n"
   ]
  },
  {
   "cell_type": "markdown",
   "id": "8bc80ffb",
   "metadata": {},
   "source": [
    "Solution:"
   ]
  },
  {
   "cell_type": "code",
   "execution_count": 96,
   "id": "af5bddf9",
   "metadata": {},
   "outputs": [
    {
     "name": "stdout",
     "output_type": "stream",
     "text": [
      "               Team  GF  GA  PTS\n",
      "4  Sekondi Hassacas  80  43   55\n",
      "5     Okwahu United  78  39   53\n",
      "6     Tano Bofoakwa  70  50   49\n",
      "7         BA United  71  55   44\n"
     ]
    }
   ],
   "source": [
    "less_than_60 = df[df['PTS'] < 60]\n",
    "\n",
    "print(less_than_60)"
   ]
  },
  {
   "cell_type": "code",
   "execution_count": null,
   "id": "ce27521b",
   "metadata": {},
   "outputs": [],
   "source": []
  }
 ],
 "metadata": {
  "kernelspec": {
   "display_name": "Python 3 (ipykernel)",
   "language": "python",
   "name": "python3"
  },
  "language_info": {
   "codemirror_mode": {
    "name": "ipython",
    "version": 3
   },
   "file_extension": ".py",
   "mimetype": "text/x-python",
   "name": "python",
   "nbconvert_exporter": "python",
   "pygments_lexer": "ipython3",
   "version": "3.9.13"
  }
 },
 "nbformat": 4,
 "nbformat_minor": 5
}
